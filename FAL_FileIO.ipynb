{
 "cells": [
  {
   "cell_type": "markdown",
   "metadata": {},
   "source": [
    "# Lab 0.4 File IO\n",
    "\n",
    "## Objective\n",
    "\n",
    "1. Read information from files using Python\n",
    "2. Use regular expressions to extract information from text\n",
    "3. Create files using Python\n",
    "\n",
    "*The challenge section and \"just for fun\" section are optional.*\n",
    "\n",
    "## Rubric\n",
    "\n",
    "- 6 pts - Contains all required components and uses professional language\n",
    "- 5 pts - Contains all required components, but uses unprofessional language, formating, etc. \n",
    "- 4 pts - Contains some, but not all, of the required components\n",
    "- 3 pts - Did not submit"
   ]
  },
  {
   "cell_type": "markdown",
   "metadata": {},
   "source": [
    "## Part 1: Letter Frequency\n",
    "\n",
    "A Caesar cipher, or a shift cipher, is one of the simplest encryption techniques. This method is named after Julius Caesar who would use it to send private messages. To encrypt information with a Caesar cipher, each letter in your message or plaintext is replaced by a letter a fixed numbers of positions away in the alphabet to generate your ciphertext.\n",
    "\n",
    "For example, if I wanted to encrypt the message `ECHO` using a left shift of 3, I would rewrite each character by shifting the entire alphabet left by 3 characters. Using the chart and key below, we can see that `E -> B`, `C -> Z`, `H -> E`, and `O -> L`. So `ECHO` becomes `BZEL`.\n",
    "\n",
    "![Pasted image 20231227102315](https://github.com/gormes-EPIC/FileIO-CSV-DSF/assets/134316348/36015604-5669-475c-a8c6-3d4674da98d4)\n",
    "- Plaintext:  ABCDEFGHIJKLMNOPQRSTUVWXYZ\n",
    "- Ciphertext: XYZABCDEFGHIJKLMNOPQRSTUVW\n",
    "\n",
    "We can use the same cipher to encrypt the plaintext `THE QUICK BROWN FOX JUMPS OVER THE LAZY DOG` as the ciphertext `QEB NRFZH YOLTK CLU GRJMP LSBO QEB IXWV ALD`. Then decrypt it using our key in the other direction and shifting right by 3.\n",
    "\n",
    "As long as whoever is reading the message knows you have shifted the alphabet left by 3, it is straightforward to decrypt `BZEL` as `ECHO`. But what if you intercepted this message and didn't know the original shift? By exploiting patterns in the English language, we can actually decrypt Caesar ciphers without knowing the original shift. [Source](https://www.101computing.net/caesar-cipher/)\n",
    "\n",
    "\n",
    "### Your Task\n",
    "\n",
    "One way to break a Caesar cipher is to look at the frequency of the letters. In a typical English text, some letters are much more frequent that others.\n",
    "\n",
    "To create your frequency table you will:\n",
    "\n",
    "1. Using [Project Gutenburg](https://www.gutenberg.org/) download at least one book into your directory. *Hint: Once you navigate to a book, copy the URL of the Plain Text UTF-8 download and user the `wget` command in your terminal.*\n",
    "2. Open your book using Python, count each of the letters, and create a frequency table.\n",
    "3. After you are done, print out the information.\n",
    "\n",
    "#### Example Output\n",
    "\n",
    "```\n",
    "A: 1023\n",
    "B: 356\n",
    "C: 40\n",
    "...\n",
    "```\n",
    "\n"
   ]
  },
  {
   "cell_type": "code",
   "execution_count": 34,
   "metadata": {},
   "outputs": [
    {
     "name": "stdout",
     "output_type": "stream",
     "text": [
      "A: 37839\n",
      "B: 7495\n",
      "C: 9506\n",
      "D: 20158\n",
      "E: 53863\n",
      "F: 8555\n",
      "G: 9950\n",
      "H: 25851\n",
      "I: 31596\n",
      "J: 866\n",
      "K: 4209\n",
      "L: 21785\n",
      "M: 11321\n",
      "N: 31538\n",
      "O: 32943\n",
      "P: 7132\n",
      "Q: 307\n",
      "R: 25675\n",
      "S: 27413\n",
      "T: 39863\n",
      "U: 13325\n",
      "V: 4406\n",
      "W: 10949\n",
      "X: 692\n",
      "Y: 10647\n",
      "Z: 205\n"
     ]
    }
   ],
   "source": [
    "file = open(\"book.txt\")\n",
    "file.readlines()\n",
    "ABC = ['A', 'B', 'C', 'D', 'E', 'F', 'G', 'H', 'I', 'J', 'K', 'L', 'M', 'N', 'O', 'P', 'Q', 'R', 'S', 'T', 'U', 'V', 'W', 'X', 'Y', 'Z']\n",
    "for A in ABC:\n",
    "    file = open(\"book.txt\", 'r')\n",
    "    text = file.read().upper()\n",
    "    count = text.count(A)\n",
    "    print(f\"{A}: {count}\")\n",
    "file.close()\n",
    "\n"
   ]
  },
  {
   "cell_type": "markdown",
   "metadata": {},
   "source": [
    "### Just for Fun! Break this Caesar Cipher\n",
    "\n",
    "Decode the following ciphertext. Start by using the frequency table you just made and matching the most popular letters with the letters from above. *Tip: In addition to using your letter frequency table from above to help you, look at the 1 and 2 letter words carefully. There are limited options those characters could be! Also, look try to identify frequently used words like `THE` or `AND` in your ciphertext.*\n",
    "\n",
    "  Ciphertext:\n",
    "\n",
    "```\n",
    "\n",
    "PA PZ H WLYPVK VM JPCPS DHY. YLILS ZWHJLZOPWZ, ZAYPRPUN MYVT H OPKKLU IHZL, OHCL DVU AOLPY MPYZA CPJAVYF HNHPUZA AOL LCPS NHSHJAPJ LTWPYL. KBYPUN AOL IHAASL, YLILS ZWPLZ THUHNLK AV ZALHS ZLJYLA WSHUZ AV AOL LTWLYVY'Z BSAPTHAL DLHWVU, AOL KLHAO ZAHY, HU HYTVYLK ZWHJL ZAHAPVU DPAO LUVBNO WVDLY AV KLZAYVF HU LUAPYL WSHULA. WBYZBLK IF AOL LTWLYVY'Z ZPUPZALY HNLUAZ, WYPUJLZZ SLPH YHJLZ OVTL HIVHYK OLY ZAHYZOPW, JBZAVKPHU VM AOL ZAVSLU WSHUZ AOHA JHU ZHCL OLY WLVWSL HUK YLZAVYL MYLLKVT AV AOL NHSHEF ....\n",
    "\n",
    "```"
   ]
  },
  {
   "cell_type": "code",
   "execution_count": 9,
   "metadata": {},
   "outputs": [
    {
     "name": "stdout",
     "output_type": "stream",
     "text": [
      "SDSCKZOBSYNYPMSFSVGKBBOLOVCZKMOCRSZCCDBSUSXQPBYWKRSNNOXLKCORKFOGYXDROSBPSBCDFSMDYBIKQKSXCDDROOFSVQKVKMDSMOWZSBONEBSXQDROLKDDVOBOLOVCZSOCWKXKQONDYCDOKVCOMBODZVKXCDYDROOWZOBYBCEVDSWKDOGOKZYXDRONOKDRCDKBKXKBWYBONCZKMOCDKDSYXGSDROXYEQRZYGOBDYNOCDBYIKXOXDSBOZVKXODZEBCEONLIDROOWZOBYBCCSXSCDOBKQOXDCZBSXMOCCVOSKBKMOCRYWOKLYKBNROBCDKBCRSZMECDYNSKXYPDROCDYVOXZVKXCDRKDMKXCKFOROBZOYZVOKXNBOCDYBOPBOONYWDYDROQKVKHI\n"
     ]
    }
   ],
   "source": [
    "ciphertext = \"PA PZ H WLYPVK VM JPCPS DHY. YLILS ZWHJLZOPWZ, ZAYPRPUN MYVT H OPKKLU IHZL, OHCL DVU AOLPY MPYZA CPJAVYF HNHPUZA AOL LCPS NHSHJAPJ LTWPYL. KBYPUN AOL IHAASL, YLILS ZWPLZ THUHNLK AV ZALHS ZLJYLA WSHUZ AV AOL LTWLYVY'Z BSAPTHAL DLHWVU, AOL KLHAO ZAHY, HU HYTVYLK ZWHJL ZAHAPVU DPAO LUVBNO WVDLY AV KLZAYVF HU LUAPYL WSHULA. WBYZBLK IF AOL LTWLYVY'Z ZPUPZALY HNLUAZ, WYPUJLZZ SLPH YHJLZ OVTL HIVHYK OLY ZAHYZOPW, JBZAVKPHU VM AOL ZAVSLU WSHUZ AOHA JHU ZHCL OLY WLVWSL HUK YLZAVYL MYLLKVT AV AOL NHSHEF\"\n",
    "cipher = {\n",
    "    'X': 'A', 'Y': 'B', 'Z': 'C', 'A': 'D', 'B': 'E', 'C': 'F', 'D': 'G',\n",
    "    'E': 'H', 'F': 'I', 'G': 'J', 'H': 'K', 'I': 'L', 'J': 'M', 'K': 'N',\n",
    "    'L': 'O', 'M': 'P', 'N': 'Q', 'O': 'R', 'P': 'S', 'Q': 'T', 'R': 'U',\n",
    "    'S': 'V', 'T': 'W', 'U': 'X', 'V': 'Y', 'W': 'Z'\n",
    "}\n",
    "newtext = \"\"\n",
    "for c in ciphertext:\n",
    "    if c in cipher:\n",
    "        newtext += cipher[c]\n",
    "print(newtext)"
   ]
  },
  {
   "cell_type": "markdown",
   "metadata": {},
   "source": [
    "## Part 2: Analyzing Server Activity\n",
    "\n",
    "One important way for businesses to keep themselves secure is to monitor their server logs.\n",
    "\n",
    "Read in `server_log.txt` containing server access logs with entries like \"IP Address-Timestamp-Page Accessed\". Notice which character we are using as a delimiter.\n",
    "\n",
    "- Count the total number of unique IP addresses that accessed the server.\n",
    "- Identify the top three most used IP addresses.\n",
    "- Generate a report file `server_summary.txt` containing this information."
   ]
  },
  {
   "cell_type": "code",
   "execution_count": 15,
   "metadata": {},
   "outputs": [
    {
     "data": {
      "text/plain": [
       "22"
      ]
     },
     "execution_count": 15,
     "metadata": {},
     "output_type": "execute_result"
    }
   ],
   "source": [
    "with open(\"server_log.txt\") as file:\n",
    "    file = file.readlines()\n",
    "adresses = []\n",
    "unique = 0\n",
    "one = 0\n",
    "oneadress = \"\"\n",
    "two = 0\n",
    "twoadress = \"\"\n",
    "three = 0\n",
    "threeadress = \"\"\n",
    "for a in file:\n",
    "    if \"http\" in a:\n",
    "        ip_address = a.split(\"-\")[0]\n",
    "        adresses.append(ip_address)\n",
    "#Find unique adesses\n",
    "for a in adresses:\n",
    "    count = adresses.count(a)\n",
    "    if count == 1:\n",
    "        unique +=1\n",
    "    #1st Most Used Adress\n",
    "    if count >= one:\n",
    "        oneadress = a\n",
    "        one = count\n",
    "    #2nd Most Used Adress\n",
    "    elif count >= two:\n",
    "        twoadress = a\n",
    "        two = count\n",
    "    #3rd Most Used Adress\n",
    "    elif count >= three:\n",
    "        threeadress = a\n",
    "        three = count\n",
    "newfile = open(\"server_summary.txt\", \"a\")\n",
    "newfile.write(f\"Unique IP Adresses: {unique}\")\n",
    "newfile.write(f\"\\nMost Used Adresses:\")\n",
    "newfile.write(f\"\\nFirst: {oneadress}\")\n",
    "newfile.write(f\"\\nSecond: {twoadress}\")\n",
    "newfile.write(f\"\\nThird: {threeadress}\")\n"
   ]
  },
  {
   "cell_type": "markdown",
   "metadata": {},
   "source": [
    "## Part 3: Creating Usernames\n",
    "\n",
    "Use the file `emails.txt` to create a list of usernames and random passwords for each user. Then, output the emails, usernames, and random passwords into an output file `output.txt`.\n",
    "\n",
    "The usernames should be the same username as the email. So for  `findlay_butler@hr.yahoo.com`, his username would be `findlay_butler`.\n",
    "\n",
    "The passwords should be 8 characters long and a random combination of letters and numbers. \n",
    "\n",
    "For the first user, `output.txt` should look like: \n",
    "```\n",
    "findlay_butler@hr.yahoo.com,findlay_butler,abiojash\n",
    "```\n",
    "\n",
    "### Challenge: Using Regular Expressions\n",
    "\n",
    "Instead of using the email username as their user account, their username should be their first initial and their last name instead. So for `findlay_butler@hr.yahoo.com`  the username would be `fbutler`. The easiest way to do this is probably **using regular expressions.** \n",
    "\n",
    "For more explanation and practice with regular expressions, use [regexone.com](https://regexone.com/). For help creating your regular expression query, use [regex101.com](https://regex101.com/). "
   ]
  },
  {
   "cell_type": "code",
   "execution_count": null,
   "metadata": {},
   "outputs": [
    {
     "name": "stdout",
     "output_type": "stream",
     "text": [
      "[['findlay_butler@hr.yahoo.com\\n', 'findlay_butler', 'oGeGkzzT'], ['cain_mosley@finance.yahoo.com\\n', 'cain_mosley', 'cYTakHwd'], ['donna_beltran@accounting.yahoo.com\\n', 'donna_beltran', 'VQVNAlCM'], ['sian_ramirez@sales.yahoo.com\\n', 'sian_ramirez', 'iarkqSxF'], ['angelo_fulton@it.yahoo.com\\n', 'angelo_fulton', 'LhEOvkdO'], ['daniyal_castro@ops.yahoo.com\\n', 'daniyal_castro', 'CHkdJmAk'], ['cayden_morrison@purchasing.yahoo.com\\n', 'cayden_morrison', 'gBvggSTi'], ['amir_haney@randd.yahoo.com\\n', 'amir_haney', 'eWzBZEFJ'], ['olive_fowler@production.yahoo.com\\n', 'olive_fowler', 'MKOLdIkv'], ['ernest_bauer@marketing.yahoo.com\\n', 'ernest_bauer', 'cqGvdxKu'], ['isla_burnett@leadership.yahoo.com\\n', 'isla_burnett', 'WwpfJyrS'], ['albert_velazquez@sales.yahoo.com\\n', 'albert_velazquez', 'NMBNccHO'], ['filip_donovan@it.yahoo.com\\n', 'filip_donovan', 'jCBKAzLE'], ['hamza_crawford@ops.yahoo.com\\n', 'hamza_crawford', 'ZfdEyJcO'], ['astrid_obrien@purchasing.yahoo.com\\n', 'astrid_obrien', 'xIPkpmuF'], ['milan_odling@randd.yahoo.com\\n', 'milan_odling', 'qJAOPKIo'], ['ruairi_stevenson@production.yahoo.com\\n', 'ruairi_stevenson', 'rtxHfPmm'], ['ria_bonner@marketing.yahoo.com\\n', 'ria_bonner', 'EpxziRDo'], ['ela_hicks@leadership.yahoo.com\\n', 'ela_hicks', 'VGAIoxPc'], ['aron_bean@finance.yahoo.com\\n', 'aron_bean', 'KJFYTrUH'], ['woody_gardner@accounting.yahoo.com\\n', 'woody_gardner', 'PWtlfVWF'], ['clyde_stokes@sales.yahoo.com\\n', 'clyde_stokes', 'pdRmQRhZ'], ['samantha_harrison@it.yahoo.com\\n', 'samantha_harrison', 'snloMrYn'], ['gina_mason@finance.yahoo.com\\n', 'gina_mason', 'pOLQTdlr'], ['hollie_vance@accounting.yahoo.com\\n', 'hollie_vance', 'kauUGhfF'], ['tillie_villa@sales.yahoo.com\\n', 'tillie_villa', 'qbkZZgAu'], ['jacqueline_dean@it.yahoo.com\\n', 'jacqueline_dean', 'fMAtyhsW'], ['xavier_vaughn@finance.yahoo.com\\n', 'xavier_vaughn', 'rbqCsGZs'], ['elif_pace@accounting.yahoo.com\\n', 'elif_pace', 'WsUjYzNG'], ['thalia_duran@sales.yahoo.com\\n', 'thalia_duran', 'cBgHFtnC'], ['lacey_fields@it.yahoo.com\\n', 'lacey_fields', 'vTcYCfgS'], ['abi_hamilton@accounting.yahoo.com\\n', 'abi_hamilton', 'FxkDYBiC'], ['carys_ward@sales.yahoo.com\\n', 'carys_ward', 'HbQqSQlY'], ['philippa_velez@accounting.yahoo.com\\n', 'philippa_velez', 'KMfXVThW'], ['annie_chen@sales.yahoo.com\\n', 'annie_chen', 'VeTqYaeO'], ['rhonda_sears@accounting.yahoo.com\\n', 'rhonda_sears', 'KJdXWSQD'], ['casey_bullock@sales.yahoo.com\\n', 'casey_bullock', 'iJqGRVqc'], ['lily-may_morgan@accounting.yahoo.com\\n', 'lily-may_morgan', 'sURITQWD'], ['jak_garner@sales.yahoo.com\\n', 'jak_garner', 'LkBhPvoM'], ['abbas_hines@accounting.yahoo.com\\n', 'abbas_hines', 'LCzvsmbu'], ['amira_gill@sales.yahoo.com\\n', 'amira_gill', 'oSYOPXOg'], ['jaime_watkins@accounting.yahoo.com\\n', 'jaime_watkins', 'hWHsnwvg'], ['noor_mccall@sales.yahoo.com\\n', 'noor_mccall', 'TmleOiZm'], ['jasper_norris@ops.yahoo.com\\n', 'jasper_norris', 'mDlPZrll'], ['olivier_roach@ops.yahoo.com\\n', 'olivier_roach', 'CXBpCLyI'], ['dhruv_callahan@ops.yahoo.com\\n', 'dhruv_callahan', 'QqHPWuGA'], ['anjali_meyer@hr.yahoo.com\\n', 'anjali_meyer', 'hSDXVEDs'], ['mae_noble@hr.yahoo.com\\n', 'mae_noble', 'CvRVlRZB'], ['brogan_fitzpatrick@hr.yahoo.com\\n', 'brogan_fitzpatrick', 'qMPdPimU'], ['haris_clayton@hr.yahoo.com', 'haris_clayton', 'CtaopWed']]\n"
     ]
    }
   ],
   "source": [
    "import random\n",
    "with open(\"emails.txt\") as file:\n",
    "    file = file.readlines()\n",
    "usernames = []\n",
    "newfile = []\n",
    "passwords = []\n",
    "abc = ['A', 'B', 'C', 'D', 'E', 'F', 'G', 'H', 'I', 'J', 'K', 'L', 'M', 'N', 'O', 'P', 'Q', 'R', 'S', 'T', 'U', 'V', 'W', 'X', 'Y', 'Z', 'a', 'b', 'c', 'd', 'e', 'f', 'g', 'h', 'i', 'j', 'k', 'l', 'm', 'n', 'o', 'p', 'q', 'r', 's', 't', 'u', 'v', 'w', 'x', 'y', 'z']\n",
    "password = \"\"\n",
    "\n",
    "for f in file:\n",
    "    for i in range(1,9):\n",
    "        char = random.choice(abc)\n",
    "        password += char\n",
    "    passwords.append(password)\n",
    "    password = \"\"\n",
    "\n",
    "for f in file:\n",
    "    user = f.split(\"@\")[0]\n",
    "    usernames.append(user)\n",
    "    index = usernames.index(user)\n",
    "    password = passwords[index]\n",
    "    newfile.append([])\n",
    "    newfile[index].append(f)\n",
    "    newfile[index].append(user)\n",
    "    newfile[index].append(password)\n",
    "\n",
    "with open(\"output.txt\") as file:\n",
    "    output = open(\"output.txt\", \"a\")\n",
    "    for u in usernames:\n",
    "        index = usernames.index(u)\n",
    "        output.write(f\"{newfile[index]}\\n\")\n",
    "\n"
   ]
  }
 ],
 "metadata": {
  "kernelspec": {
   "display_name": "Python 3",
   "language": "python",
   "name": "python3"
  },
  "language_info": {
   "codemirror_mode": {
    "name": "ipython",
    "version": 3
   },
   "file_extension": ".py",
   "mimetype": "text/x-python",
   "name": "python",
   "nbconvert_exporter": "python",
   "pygments_lexer": "ipython3",
   "version": "3.12.3"
  }
 },
 "nbformat": 4,
 "nbformat_minor": 2
}
