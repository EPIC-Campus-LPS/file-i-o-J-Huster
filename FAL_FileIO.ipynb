{
 "cells": [
  {
   "cell_type": "markdown",
   "metadata": {},
   "source": [
    "# Lab 0.4 File IO\n",
    "\n",
    "## Objective\n",
    "\n",
    "1. Read information from files using Python\n",
    "2. Use regular expressions to extract information from text\n",
    "3. Create files using Python\n",
    "\n",
    "*The challenge section and \"just for fun\" section are optional.*\n",
    "\n",
    "## Rubric\n",
    "\n",
    "- 6 pts - Contains all required components and uses professional language\n",
    "- 5 pts - Contains all required components, but uses unprofessional language, formating, etc. \n",
    "- 4 pts - Contains some, but not all, of the required components\n",
    "- 3 pts - Did not submit"
   ]
  },
  {
   "cell_type": "markdown",
   "metadata": {},
   "source": [
    "## Part 1: Letter Frequency\n",
    "\n",
    "A Caesar cipher, or a shift cipher, is one of the simplest encryption techniques. This method is named after Julius Caesar who would use it to send private messages. To encrypt information with a Caesar cipher, each letter in your message or plaintext is replaced by a letter a fixed numbers of positions away in the alphabet to generate your ciphertext.\n",
    "\n",
    "For example, if I wanted to encrypt the message `ECHO` using a left shift of 3, I would rewrite each character by shifting the entire alphabet left by 3 characters. Using the chart and key below, we can see that `E -> B`, `C -> Z`, `H -> E`, and `O -> L`. So `ECHO` becomes `BZEL`.\n",
    "\n",
    "![Pasted image 20231227102315](https://github.com/gormes-EPIC/FileIO-CSV-DSF/assets/134316348/36015604-5669-475c-a8c6-3d4674da98d4)\n",
    "- Plaintext:  ABCDEFGHIJKLMNOPQRSTUVWXYZ\n",
    "- Ciphertext: XYZABCDEFGHIJKLMNOPQRSTUVW\n",
    "\n",
    "We can use the same cipher to encrypt the plaintext `THE QUICK BROWN FOX JUMPS OVER THE LAZY DOG` as the ciphertext `QEB NRFZH YOLTK CLU GRJMP LSBO QEB IXWV ALD`. Then decrypt it using our key in the other direction and shifting right by 3.\n",
    "\n",
    "As long as whoever is reading the message knows you have shifted the alphabet left by 3, it is straightforward to decrypt `BZEL` as `ECHO`. But what if you intercepted this message and didn't know the original shift? By exploiting patterns in the English language, we can actually decrypt Caesar ciphers without knowing the original shift. [Source](https://www.101computing.net/caesar-cipher/)\n",
    "\n",
    "\n",
    "### Your Task\n",
    "\n",
    "One way to break a Caesar cipher is to look at the frequency of the letters. In a typical English text, some letters are much more frequent that others.\n",
    "\n",
    "To create your frequency table you will:\n",
    "\n",
    "1. Using [Project Gutenburg](https://www.gutenberg.org/) download at least one book into your directory. *Hint: Once you navigate to a book, copy the URL of the Plain Text UTF-8 download and user the `wget` command in your terminal.*\n",
    "2. Open your book using Python, count each of the letters, and create a frequency table.\n",
    "3. After you are done, print out the information.\n",
    "\n",
    "#### Example Output\n",
    "\n",
    "```\n",
    "A: 1023\n",
    "B: 356\n",
    "C: 40\n",
    "...\n",
    "```\n",
    "\n"
   ]
  },
  {
   "cell_type": "code",
   "execution_count": 34,
   "metadata": {},
   "outputs": [
    {
     "name": "stdout",
     "output_type": "stream",
     "text": [
      "A: 37839\n",
      "B: 7495\n",
      "C: 9506\n",
      "D: 20158\n",
      "E: 53863\n",
      "F: 8555\n",
      "G: 9950\n",
      "H: 25851\n",
      "I: 31596\n",
      "J: 866\n",
      "K: 4209\n",
      "L: 21785\n",
      "M: 11321\n",
      "N: 31538\n",
      "O: 32943\n",
      "P: 7132\n",
      "Q: 307\n",
      "R: 25675\n",
      "S: 27413\n",
      "T: 39863\n",
      "U: 13325\n",
      "V: 4406\n",
      "W: 10949\n",
      "X: 692\n",
      "Y: 10647\n",
      "Z: 205\n"
     ]
    }
   ],
   "source": [
    "file = open(\"book.txt\")\n",
    "file.readlines()\n",
    "ABC = ['A', 'B', 'C', 'D', 'E', 'F', 'G', 'H', 'I', 'J', 'K', 'L', 'M', 'N', 'O', 'P', 'Q', 'R', 'S', 'T', 'U', 'V', 'W', 'X', 'Y', 'Z']\n",
    "for A in ABC:\n",
    "    file = open(\"book.txt\", 'r')\n",
    "    text = file.read().upper()\n",
    "    count = text.count(A)\n",
    "    print(f\"{A}: {count}\")\n",
    "file.close()\n",
    "\n"
   ]
  },
  {
   "cell_type": "markdown",
   "metadata": {},
   "source": [
    "### Just for Fun! Break this Caesar Cipher\n",
    "\n",
    "Decode the following ciphertext. Start by using the frequency table you just made and matching the most popular letters with the letters from above. *Tip: In addition to using your letter frequency table from above to help you, look at the 1 and 2 letter words carefully. There are limited options those characters could be! Also, look try to identify frequently used words like `THE` or `AND` in your ciphertext.*\n",
    "\n",
    "  Ciphertext:\n",
    "\n",
    "```\n",
    "\n",
    "PA PZ H WLYPVK VM JPCPS DHY. YLILS ZWHJLZOPWZ, ZAYPRPUN MYVT H OPKKLU IHZL, OHCL DVU AOLPY MPYZA CPJAVYF HNHPUZA AOL LCPS NHSHJAPJ LTWPYL. KBYPUN AOL IHAASL, YLILS ZWPLZ THUHNLK AV ZALHS ZLJYLA WSHUZ AV AOL LTWLYVY'Z BSAPTHAL DLHWVU, AOL KLHAO ZAHY, HU HYTVYLK ZWHJL ZAHAPVU DPAO LUVBNO WVDLY AV KLZAYVF HU LUAPYL WSHULA. WBYZBLK IF AOL LTWLYVY'Z ZPUPZALY HNLUAZ, WYPUJLZZ SLPH YHJLZ OVTL HIVHYK OLY ZAHYZOPW, JBZAVKPHU VM AOL ZAVSLU WSHUZ AOHA JHU ZHCL OLY WLVWSL HUK YLZAVYL MYLLKVT AV AOL NHSHEF ....\n",
    "\n",
    "```"
   ]
  },
  {
   "cell_type": "code",
   "execution_count": 9,
   "metadata": {},
   "outputs": [
    {
     "name": "stdout",
     "output_type": "stream",
     "text": [
      "SDSCKZOBSYNYPMSFSVGKBBOLOVCZKMOCRSZCCDBSUSXQPBYWKRSNNOXLKCORKFOGYXDROSBPSBCDFSMDYBIKQKSXCDDROOFSVQKVKMDSMOWZSBONEBSXQDROLKDDVOBOLOVCZSOCWKXKQONDYCDOKVCOMBODZVKXCDYDROOWZOBYBCEVDSWKDOGOKZYXDRONOKDRCDKBKXKBWYBONCZKMOCDKDSYXGSDROXYEQRZYGOBDYNOCDBYIKXOXDSBOZVKXODZEBCEONLIDROOWZOBYBCCSXSCDOBKQOXDCZBSXMOCCVOSKBKMOCRYWOKLYKBNROBCDKBCRSZMECDYNSKXYPDROCDYVOXZVKXCDRKDMKXCKFOROBZOYZVOKXNBOCDYBOPBOONYWDYDROQKVKHI\n"
     ]
    }
   ],
   "source": [
    "ciphertext = \"PA PZ H WLYPVK VM JPCPS DHY. YLILS ZWHJLZOPWZ, ZAYPRPUN MYVT H OPKKLU IHZL, OHCL DVU AOLPY MPYZA CPJAVYF HNHPUZA AOL LCPS NHSHJAPJ LTWPYL. KBYPUN AOL IHAASL, YLILS ZWPLZ THUHNLK AV ZALHS ZLJYLA WSHUZ AV AOL LTWLYVY'Z BSAPTHAL DLHWVU, AOL KLHAO ZAHY, HU HYTVYLK ZWHJL ZAHAPVU DPAO LUVBNO WVDLY AV KLZAYVF HU LUAPYL WSHULA. WBYZBLK IF AOL LTWLYVY'Z ZPUPZALY HNLUAZ, WYPUJLZZ SLPH YHJLZ OVTL HIVHYK OLY ZAHYZOPW, JBZAVKPHU VM AOL ZAVSLU WSHUZ AOHA JHU ZHCL OLY WLVWSL HUK YLZAVYL MYLLKVT AV AOL NHSHEF\"\n",
    "cipher = {\n",
    "    'X': 'A', 'Y': 'B', 'Z': 'C', 'A': 'D', 'B': 'E', 'C': 'F', 'D': 'G',\n",
    "    'E': 'H', 'F': 'I', 'G': 'J', 'H': 'K', 'I': 'L', 'J': 'M', 'K': 'N',\n",
    "    'L': 'O', 'M': 'P', 'N': 'Q', 'O': 'R', 'P': 'S', 'Q': 'T', 'R': 'U',\n",
    "    'S': 'V', 'T': 'W', 'U': 'X', 'V': 'Y', 'W': 'Z'\n",
    "}\n",
    "newtext = \"\"\n",
    "for c in ciphertext:\n",
    "    if c in cipher:\n",
    "        newtext += cipher[c]\n",
    "print(newtext)"
   ]
  },
  {
   "cell_type": "markdown",
   "metadata": {},
   "source": [
    "## Part 2: Analyzing Server Activity\n",
    "\n",
    "One important way for businesses to keep themselves secure is to monitor their server logs.\n",
    "\n",
    "Read in `server_log.txt` containing server access logs with entries like \"IP Address-Timestamp-Page Accessed\". Notice which character we are using as a delimiter.\n",
    "\n",
    "- Count the total number of unique IP addresses that accessed the server.\n",
    "- Identify the top three most used IP addresses.\n",
    "- Generate a report file `server_summary.txt` containing this information."
   ]
  },
  {
   "cell_type": "code",
   "execution_count": 15,
   "metadata": {},
   "outputs": [
    {
     "data": {
      "text/plain": [
       "22"
      ]
     },
     "execution_count": 15,
     "metadata": {},
     "output_type": "execute_result"
    }
   ],
   "source": [
    "with open(\"server_log.txt\") as file:\n",
    "    file = file.readlines()\n",
    "adresses = []\n",
    "unique = 0\n",
    "one = 0\n",
    "oneadress = \"\"\n",
    "two = 0\n",
    "twoadress = \"\"\n",
    "three = 0\n",
    "threeadress = \"\"\n",
    "for a in file:\n",
    "    if \"http\" in a:\n",
    "        ip_address = a.split(\"-\")[0]\n",
    "        adresses.append(ip_address)\n",
    "#Find unique adesses\n",
    "for a in adresses:\n",
    "    count = adresses.count(a)\n",
    "    if count == 1:\n",
    "        unique +=1\n",
    "    #1st Most Used Adress\n",
    "    if count >= one:\n",
    "        oneadress = a\n",
    "        one = count\n",
    "    #2nd Most Used Adress\n",
    "    elif count >= two:\n",
    "        twoadress = a\n",
    "        two = count\n",
    "    #3rd Most Used Adress\n",
    "    elif count >= three:\n",
    "        threeadress = a\n",
    "        three = count\n",
    "newfile = open(\"server_summary.txt\", \"a\")\n",
    "newfile.write(f\"Unique IP Adresses: {unique}\")\n",
    "newfile.write(f\"\\nMost Used Adresses:\")\n",
    "newfile.write(f\"\\nFirst: {oneadress}\")\n",
    "newfile.write(f\"\\nSecond: {twoadress}\")\n",
    "newfile.write(f\"\\nThird: {threeadress}\")\n"
   ]
  },
  {
   "cell_type": "markdown",
   "metadata": {},
   "source": [
    "## Part 3: Creating Usernames\n",
    "\n",
    "Use the file `emails.txt` to create a list of usernames and random passwords for each user. Then, output the emails, usernames, and random passwords into an output file `output.txt`.\n",
    "\n",
    "The usernames should be the same username as the email. So for  `findlay_butler@hr.yahoo.com`, his username would be `findlay_butler`.\n",
    "\n",
    "The passwords should be 8 characters long and a random combination of letters and numbers. \n",
    "\n",
    "For the first user, `output.txt` should look like: \n",
    "```\n",
    "findlay_butler@hr.yahoo.com,findlay_butler,abiojash\n",
    "```\n",
    "\n",
    "### Challenge: Using Regular Expressions\n",
    "\n",
    "Instead of using the email username as their user account, their username should be their first initial and their last name instead. So for `findlay_butler@hr.yahoo.com`  the username would be `fbutler`. The easiest way to do this is probably **using regular expressions.** \n",
    "\n",
    "For more explanation and practice with regular expressions, use [regexone.com](https://regexone.com/). For help creating your regular expression query, use [regex101.com](https://regex101.com/). "
   ]
  },
  {
   "cell_type": "code",
   "execution_count": 17,
   "metadata": {},
   "outputs": [
    {
     "ename": "AttributeError",
     "evalue": "'str' object has no attribute 'append'",
     "output_type": "error",
     "traceback": [
      "\u001b[0;31m---------------------------------------------------------------------------\u001b[0m",
      "\u001b[0;31mAttributeError\u001b[0m                            Traceback (most recent call last)",
      "Cell \u001b[0;32mIn[17], line 10\u001b[0m\n\u001b[1;32m      8\u001b[0m index \u001b[38;5;241m=\u001b[39m usernames\u001b[38;5;241m.\u001b[39mindex(user)\n\u001b[1;32m      9\u001b[0m usernames\u001b[38;5;241m.\u001b[39mappend([])\n\u001b[0;32m---> 10\u001b[0m \u001b[43musernames\u001b[49m\u001b[43m[\u001b[49m\u001b[43mindex\u001b[49m\u001b[43m]\u001b[49m\u001b[38;5;241;43m.\u001b[39;49m\u001b[43mappend\u001b[49m(f)\n\u001b[1;32m     11\u001b[0m usernames[index]\u001b[38;5;241m.\u001b[39mappend(user)\n\u001b[1;32m     12\u001b[0m \u001b[38;5;66;03m#usernames[index].append(p)\u001b[39;00m\n",
      "\u001b[0;31mAttributeError\u001b[0m: 'str' object has no attribute 'append'"
     ]
    }
   ],
   "source": [
    "with open(\"emails.txt\") as file:\n",
    "    file = file.readlines()\n",
    "usernames = []\n",
    "newfile = []\n",
    "for f in file:\n",
    "    user = f.split(\"@\")[0]\n",
    "    usernames.append(user)\n",
    "    index = usernames.index(user)\n",
    "    usernames.append([])\n",
    "    usernames[index].append(f)\n",
    "    usernames[index].append(user)\n",
    "    #usernames[index].append(p)\n"
   ]
  }
 ],
 "metadata": {
  "kernelspec": {
   "display_name": "Python 3",
   "language": "python",
   "name": "python3"
  },
  "language_info": {
   "codemirror_mode": {
    "name": "ipython",
    "version": 3
   },
   "file_extension": ".py",
   "mimetype": "text/x-python",
   "name": "python",
   "nbconvert_exporter": "python",
   "pygments_lexer": "ipython3",
   "version": "3.12.3"
  }
 },
 "nbformat": 4,
 "nbformat_minor": 2
}
